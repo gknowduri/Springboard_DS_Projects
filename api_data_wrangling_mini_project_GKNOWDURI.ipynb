{
 "cells": [
  {
   "cell_type": "markdown",
   "metadata": {},
   "source": [
    "This exercise will require you to pull some data from https://data.nasdaq.com/ (formerly Quandl API)."
   ]
  },
  {
   "cell_type": "markdown",
   "metadata": {},
   "source": [
    "As a first step, you will need to register a free account on the https://data.nasdaq.com/ website."
   ]
  },
  {
   "cell_type": "markdown",
   "metadata": {},
   "source": [
    "After you register, you will be provided with a unique API key, that you should store:\n",
    "\n",
    "*Note*: Use a `.env` file and put your key in there and `python-dotenv` to access it in this notebook. \n",
    "\n",
    "The code below uses a key that was used when generating this project but has since been deleted. Never submit your keys to source control. There is a `.env-example` file in this repository to illusrtate what you need. Copy that to a file called `.env` and use your own api key in that `.env` file. Make sure you also have a `.gitignore` file with a line for `.env` added to it. \n",
    "\n",
    "The standard Python gitignore is [here](https://github.com/github/gitignore/blob/master/Python.gitignore) you can just copy that. "
   ]
  },
  {
   "cell_type": "code",
   "execution_count": null,
   "metadata": {},
   "outputs": [],
   "source": [
    "#!pip install python-dotenv"
   ]
  },
  {
   "cell_type": "code",
   "execution_count": null,
   "metadata": {},
   "outputs": [],
   "source": [
    "# get api key from your .env file\n",
    "import os\n",
    "#print(os. getcwd())\n",
    "from dotenv import load_dotenv\n",
    "\n",
    "load_dotenv()\n",
    "API_KEY = os.getenv('NASDAQ_API_KEY')\n",
    "\n",
    "print(API_KEY)"
   ]
  },
  {
   "cell_type": "markdown",
   "metadata": {},
   "source": [
    "Nasdaq Data has a large number of data sources, but, unfortunately, most of them require a Premium subscription. Still, there are also a good number of free datasets."
   ]
  },
  {
   "cell_type": "markdown",
   "metadata": {},
   "source": [
    "For this mini project, we will focus on equities data from the Frankfurt Stock Exhange (FSE), which is available for free. We'll try and analyze the stock prices of a company called Carl Zeiss Meditec, which manufactures tools for eye examinations, as well as medical lasers for laser eye surgery: https://www.zeiss.com/meditec/int/home.html. The company is listed under the stock ticker AFX_X."
   ]
  },
  {
   "cell_type": "markdown",
   "metadata": {},
   "source": [
    "You can find the detailed Nasdaq Data API instructions here: https://docs.data.nasdaq.com/docs/in-depth-usage"
   ]
  },
  {
   "cell_type": "markdown",
   "metadata": {},
   "source": [
    "While there is a dedicated Python package for connecting to the Nasdaq API, we would prefer that you use the *requests* package, which can be easily downloaded using *pip* or *conda*. You can find the documentation for the package here: http://docs.python-requests.org/en/master/ "
   ]
  },
  {
   "cell_type": "markdown",
   "metadata": {},
   "source": [
    "Finally, apart from the *requests* package, you are encouraged to not use any third party Python packages, such as *pandas*, and instead focus on what's available in the Python Standard Library (the *collections* module might come in handy: https://pymotw.com/3/collections/).\n",
    "Also, since you won't have access to DataFrames, you are encouraged to us Python's native data structures - preferably dictionaries, though some questions can also be answered using lists.\n",
    "You can read more on these data structures here: https://docs.python.org/3/tutorial/datastructures.html"
   ]
  },
  {
   "cell_type": "markdown",
   "metadata": {},
   "source": [
    "Keep in mind that the JSON responses you will be getting from the API map almost one-to-one to Python's dictionaries. Unfortunately, they can be very nested, so make sure you read up on indexing dictionaries in the documentation provided above."
   ]
  },
  {
   "cell_type": "code",
   "execution_count": null,
   "metadata": {},
   "outputs": [],
   "source": [
    "# First, import the relevant modules\n",
    "import requests\n",
    "import json"
   ]
  },
  {
   "cell_type": "markdown",
   "metadata": {},
   "source": [
    "Note: API's can change a bit with each version, for this exercise it is reccomended to use the nasdaq api at `https://data.nasdaq.com/api/v3/`. This is the same api as what used to be quandl so `https://www.quandl.com/api/v3/` should work too.\n",
    "\n",
    "Hint: We are looking for the `AFX_X` data on the `datasets/FSE/` dataset."
   ]
  },
  {
   "cell_type": "code",
   "execution_count": null,
   "metadata": {},
   "outputs": [],
   "source": [
    "# Now, call the Nasdaq API and pull out a small sample of the data (only one day) to get a glimpse\n",
    "# into the JSON structure that will be returned\n",
    "\n",
    "# Define the endpoint URL\n",
    "#url=\"https://data.nasdaq.com/api/v3/datasets/FSE/AFX_X/data.json?\" + \"&start_date=2020-01-01&end_date=2020-01-02&api_key=\" + API_KEY\n",
    "url=\"https://data.nasdaq.com/api/v3/datasets/FSE/AFX_X/data.json\"\n",
    "parameters = {\n",
    "    \"api_key\": API_KEY,\n",
    "    \"format\":'json',\n",
    "    \"start_date\": '2020-11-29', \n",
    "    \"end_date\": '2020-11-30'   #Note: data is available till 2020-12-01; do not provide later end dates than 202-12-01\n",
    "}\n",
    "sample_data = requests.get(url,params=parameters)\n",
    "sample_data_formatted=json.dumps(sample_data.json(),sort_keys=True,indent=4)\n",
    "print(sample_data_formatted)"
   ]
  },
  {
   "cell_type": "code",
   "execution_count": null,
   "metadata": {},
   "outputs": [],
   "source": [
    "# Inspect the JSON structure of the object you created, and take note of how nested it is,\n",
    "# as well as the overall structure\n",
    "url=\"https://data.nasdaq.com/api/v3/datasets/FSE/AFX_X/data.json\"\n",
    "parameters = {\n",
    "    \"api_key\": API_KEY,\n",
    "    \"format\":'json',\n",
    "    \"start_date\": '', \n",
    "    \"end_date\": ''   #Note: data is available till 2020-12-01; do not provide later end dates than 202-12-01\n",
    "}\n",
    "api_response_sample_data=''\n",
    "api_response_sample_data = requests.get(url,params=parameters)\n",
    "print('api response..')\n",
    "print(api_response_sample_data.json())\n",
    "print('api response end..')\n",
    "# Convert the API response data to a JSON string\n",
    "api_respnonse_sample_data_json=json.dumps(sample_data.json())\n",
    "print(api_respnonse_sample_data_json)\n",
    "\n",
    "print()\n",
    "# Load the JSON string into a Python dictionary\n",
    "api_response_sample_data_dict = json.loads(api_respnonse_sample_data_json)\n",
    "print(api_response_sample_data_dict)\n",
    "\n",
    "# Print the structure of the API response data\n",
    "def print_structure(data, indent=0):\n",
    "    for key, value in data.items():\n",
    "        print(\" \" * indent + f\"- {key}\")\n",
    "        if isinstance(value, dict):\n",
    "            print_structure(value, indent + 2)\n",
    "        elif isinstance(value, list) and value:\n",
    "            if isinstance(value[0], dict):\n",
    "                print_structure(value[0], indent + 2)\n",
    "\n",
    "print('before structure print..')\n",
    "print_structure(api_response_sample_data_dict)\n",
    "print('after structure print..')"
   ]
  },
  {
   "cell_type": "markdown",
   "metadata": {},
   "source": [
    "These are your tasks for this mini project:\n",
    "\n",
    "1. Collect data from the Franfurt Stock Exchange, for the ticker AFX_X, for the whole year 2017 (keep in mind that the date format is YYYY-MM-DD).\n",
    "2. Convert the returned JSON object into a Python dictionary.\n",
    "3. Calculate what the highest and lowest opening prices were for the stock in this period.\n",
    "4. What was the largest change in any one day (based on High and Low price)?\n",
    "5. What was the largest change between any two days (based on Closing Price)?\n",
    "6. What was the average daily trading volume during this year?\n",
    "7. (Optional) What was the median trading volume during this year. (Note: you may need to implement your own function for calculating the median.)"
   ]
  },
  {
   "cell_type": "code",
   "execution_count": null,
   "metadata": {},
   "outputs": [],
   "source": [
    "#Collect data from the Franfurt Stock Exchange, for the ticker AFX_X, for the whole year 2017 (keep in mind that the date format is YYYY-MM-DD).\n",
    "parameters = {'start_date':'2017-01-01',\n",
    "              'end_date':'2017-12-31'    \n",
    "}\n",
    "api_resp_one_year_data = requests.get(url,params=parameters)\n",
    "api_resp_one_year_json = json.dumps(api_resp_one_year_data.json())\n",
    "#print(json.dumps( (api_resp_one_year_data.json()),sort_keys=True,indent=4) )\n",
    "print(api_resp_one_year_json)\n"
   ]
  },
  {
   "cell_type": "code",
   "execution_count": null,
   "metadata": {},
   "outputs": [],
   "source": [
    "#Convert the returned JSON object into a Python dictionary.\n",
    "api_resp_one_year_dict = json.loads(api_resp_one_year_json)\n",
    "print(api_resp_one_year_dict)"
   ]
  },
  {
   "cell_type": "code",
   "execution_count": null,
   "metadata": {},
   "outputs": [],
   "source": [
    "#extract \"data\" to a list\n",
    "list_data = api_resp_one_year_dict['dataset_data']['data']\n",
    "print(list_data)"
   ]
  },
  {
   "cell_type": "code",
   "execution_count": null,
   "metadata": {},
   "outputs": [],
   "source": [
    "#Calculate what the highest and lowest opening prices were for the stock in this period.\n",
    "list_open_prices = []\n",
    "for open_price in list_data:\n",
    "    list_open_prices.append(open_price[1])\n",
    "\n",
    "#print(list_open_prices)\n",
    "highest_opening_price = max(i for i in list_open_prices if i is not None)\n",
    "lowest_opening_price = min(i for i in list_open_prices if i is not None)\n",
    "print('highest opening prices is::',highest_opening_price)\n",
    "print('lowest opening price is::', lowest_opening_price)"
   ]
  },
  {
   "cell_type": "code",
   "execution_count": null,
   "metadata": {},
   "outputs": [],
   "source": [
    "#What was the largest change in any one day (based on High and Low price)?\n",
    "#get all high prices to one list and all low prices to another list. here the index for any array can access high and low of that day\n",
    "# high_prices = []\n",
    "# for i in list_data:\n",
    "#      high_price.append(i[2])\n",
    "\n",
    "# low_prices = []\n",
    "#  for i in list_data:\n",
    "#         low_price.append(i[3])\n",
    "\n",
    "# list_diff = []\n",
    "# for i in range(len(list_high_prices)):\n",
    "#     diff = round((list_high_prices[i] - list_low_prices[i]), 2)\n",
    "#     list_diff.append(diff)\n",
    "\n",
    "list_high_price = [item[2] for item in list_data]\n",
    "list_low_price = [item[3] for item in list_data]\n",
    "list_diff = [round((high - low),2) for high,low in zip(list_high_price,list_low_price)]\n",
    "max_diff = max(list_diff)\n",
    "    \n",
    "#find maximum difference between high price and low prices\n",
    "# max_diff = max(list_diff)\n",
    "print('The largest change in price in any one day was:', max_diff)"
   ]
  },
  {
   "cell_type": "code",
   "execution_count": null,
   "metadata": {},
   "outputs": [],
   "source": [
    "#What was the largest change between any two days (based on Closing Price)?\n",
    "list_closing_price=[]\n",
    "for i in list_data:\n",
    "    list_closing_price.append(i[4])\n",
    "    \n",
    "closing_diff = []\n",
    "for i in range(1,len(list_closing_price)):\n",
    "    closing_diff.append(round( (list_closing_price[i] - list_closing_price[i-1]),2))\n",
    "\n",
    "highest_closing_diff = max(closing_diff)\n",
    "print('largest closing price change between any two days::',highest_closing_diff)\n",
    "    "
   ]
  },
  {
   "cell_type": "code",
   "execution_count": null,
   "metadata": {},
   "outputs": [],
   "source": [
    "#What was the average daily trading volume during this year?\n",
    "\n",
    "# trading_volume_year=[]\n",
    "# for i in list_data:\n",
    "#      trading_volume_year.append(i[6])\n",
    "# avg_trading_volume_year = round(sum(trading_volume_year)/len(trading_volume_year),2)\n",
    "# print('average daily trading volume during the year::',avg_trading_volume_year)\n",
    "\n",
    "list_trade_volume = [trade_volume[6] for trade_volume in list_data]\n",
    "print('The average daily trading volume during the year::',round(sum(list_trade_volume)/len(list_trade_volume),2))"
   ]
  },
  {
   "cell_type": "code",
   "execution_count": null,
   "metadata": {},
   "outputs": [],
   "source": [
    "#(Optional) What was the median trading volume during this year. (Note: you may need to implement your own function for calculating the median.)\n",
    "# Sorting the list\n",
    "\n",
    "\n",
    "#median function\n",
    "def median_func(obj_list):\n",
    "    obj = obj_list\n",
    "    sort_obj = sorted(obj)\n",
    "    if len(obj)%2 == 1:\n",
    "        median_trade_volume = sort_obj[len(obj)//2]\n",
    "    else:\n",
    "        median_trade_volume = (sort_obj[(len(obj)/2)-1] + sort_obj[(len(obj)/2)+1] )/2\n",
    "    \n",
    "    return(median_trade_volume)\n",
    "\n",
    "# print('datatype::',type(list_trade_volume))\n",
    "\n",
    "# x=median_func(list_trade_volume)\n",
    "# print(x)\n",
    "\n",
    "print('Median trading volume during the year::',median_func(list_trade_volume))"
   ]
  },
  {
   "cell_type": "code",
   "execution_count": null,
   "metadata": {},
   "outputs": [],
   "source": []
  }
 ],
 "metadata": {
  "interpreter": {
   "hash": "7635eb1b9d0fe97add78a7368b6b431c09bb8ad5c42e437d64abdd99821c31ae"
  },
  "kernelspec": {
   "display_name": "Python 3",
   "language": "python",
   "name": "python3"
  },
  "language_info": {
   "codemirror_mode": {
    "name": "ipython",
    "version": 3
   },
   "file_extension": ".py",
   "mimetype": "text/x-python",
   "name": "python",
   "nbconvert_exporter": "python",
   "pygments_lexer": "ipython3",
   "version": "3.8.8"
  }
 },
 "nbformat": 4,
 "nbformat_minor": 4
}
