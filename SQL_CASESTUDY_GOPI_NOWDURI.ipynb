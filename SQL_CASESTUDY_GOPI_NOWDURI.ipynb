{
 "cells": [
  {
   "cell_type": "code",
   "execution_count": 3,
   "id": "b122a6f5",
   "metadata": {},
   "outputs": [
    {
     "name": "stdout",
     "output_type": "stream",
     "text": [
      "before connection...\n",
      "after connection...\n",
      "   0                1        2\n",
      "0  3     Table Tennis    180.0\n",
      "1  7    Snooker Table    240.0\n",
      "2  8       Pool Table    270.0\n",
      "3  2  Badminton Court   1906.5\n",
      "4  6     Squash Court  13468.0\n",
      "5  0   Tennis Court 1  13860.0\n",
      "6  1   Tennis Court 2  14310.0\n",
      "7  5   Massage Room 2  14454.6\n",
      "8  4   Massage Room 1  50351.6\n"
     ]
    },
    {
     "name": "stderr",
     "output_type": "stream",
     "text": [
      "<ipython-input-3-338efb16dad7>:8: SADeprecationWarning: The Engine.table_names() method is deprecated and will be removed in a future release.  Please refer to Inspector.get_table_names(). (deprecated since: 1.4)\n",
      "  table_names=engine.table_names()\n"
     ]
    }
   ],
   "source": [
    "from sqlalchemy import create_engine\n",
    "##import sqllite3\n",
    "import pandas as pd\n",
    "engine = create_engine('sqlite:///C:\\\\Users\\\\snowduri\\\\Desktop\\\\Springboard Datascience Course - ML\\\\sqllitecasestudydb\\\\sqlite_db_pythonsqlite.db')\n",
    "\n",
    "\n",
    "# Save the table names to a list: table_names\n",
    "table_names=engine.table_names()\n",
    "print('before connection...')\n",
    "con = engine.connect()\n",
    "#rs = con.execute(\"select * from Facilities \")\n",
    "#****************************** SQL Casestudy Q10 **********************\n",
    "'''\n",
    "Q10: Produce a list of facilities with a total revenue less than 1000.\n",
    "The output of facility name and total revenue, sorted by revenue. Remember\n",
    "that there's a different cost for guests and members!\n",
    "'''\n",
    "\n",
    "rs_10 = con.execute(\"select bagg.facid,f.name,guest_sum*guestcost+member_sum*membercost revenue from (    \\\n",
    "                     select facid,sum(case when memid=0 then slots else 0 end) guest_sum,              \\\n",
    "                      sum(case when memid<>0 then slots else 0 end) member_sum                         \\\n",
    "                     from Bookings                                                                     \\\n",
    "                     group by facid                                                                    \\\n",
    "order by facid                                                                                         \\\n",
    "    ) bagg                                                                                             \\\n",
    "join Facilities f                                                                                      \\\n",
    "  on bagg.facid = f.facid                                                                              \\\n",
    "order by revenue \")\n",
    "print('after connection...')\n",
    "\n",
    "df10 = pd.DataFrame(rs_10.fetchall())\n",
    "print(df10)\n",
    "\n",
    "#****************************** SQL Casestudy Q10 **********************"
   ]
  },
  {
   "cell_type": "code",
   "execution_count": 4,
   "id": "e1471b8e",
   "metadata": {},
   "outputs": [
    {
     "name": "stdout",
     "output_type": "stream",
     "text": [
      "after connection...\n",
      "                    0          1         2          3\n",
      "0               Bader   Florence  Stibbons     Ponder\n",
      "1               Baker       Anne  Stibbons     Ponder\n",
      "2               Baker    Timothy   Farrell     Jemima\n",
      "3              Boothe        Tim    Rownam        Tim\n",
      "4             Butters     Gerald     Smith     Darren\n",
      "5              Coplin       Joan     Baker    Timothy\n",
      "6             Crumpet      Erica     Smith      Tracy\n",
      "7                Dare      Nancy  Joplette     Janice\n",
      "8             Farrell      David      None       None\n",
      "9             Farrell     Jemima      None       None\n",
      "10              GUEST      GUEST      None       None\n",
      "11            Genting    Matthew   Butters     Gerald\n",
      "12               Hunt       John   Purview  Millicent\n",
      "13              Jones      David  Joplette     Janice\n",
      "14              Jones    Douglas     Jones      David\n",
      "15           Joplette     Janice     Smith     Darren\n",
      "16          Mackenzie       Anna     Smith     Darren\n",
      "17               Owen    Charles     Smith     Darren\n",
      "18             Pinker      David   Farrell     Jemima\n",
      "19            Purview  Millicent     Smith      Tracy\n",
      "20             Rownam        Tim      None       None\n",
      "21             Rumney  Henrietta   Genting    Matthew\n",
      "22             Sarwin  Ramnaresh     Bader   Florence\n",
      "23              Smith     Darren      None       None\n",
      "24              Smith     Darren      None       None\n",
      "25              Smith       Jack     Smith     Darren\n",
      "26              Smith      Tracy      None       None\n",
      "27           Stibbons     Ponder     Tracy     Burton\n",
      "28              Tracy     Burton      None       None\n",
      "29         Tupperware   Hyacinth      None       None\n",
      "30  Worthington-Smyth      Henry     Smith      Tracy\n"
     ]
    }
   ],
   "source": [
    "#****************************** SQL Casestudy Q11 **********************\n",
    "'''\n",
    "Q11: Produce a report of members and who recommended them in alphabetic surname,firstname order\n",
    "'''\n",
    "\n",
    "rs_11 = con.execute(\"select m.surname,m.firstname \\\n",
    ", case when recom_by.surname = 'GUEST' then 'none' else recom_by.surname  END recbysurname \\\n",
    ", case when recom_by.firstname = 'GUEST' then 'none' else recom_by.firstname  END recbyfirstname \\\n",
    "from \\\n",
    "(select memid,surname,firstname,recommendedby from Members) m  \\\n",
    "left JOIN \\\n",
    "(select memid,surname,firstname from Members) recom_by \\\n",
    "on m.recommendedby = recom_by.memid \\\n",
    "order by m.surname,m.firstname \") \n",
    "print('after connection...')\n",
    "\n",
    "df11 = pd.DataFrame(rs_11.fetchall())\n",
    "print(df11)\n",
    "\n",
    "#****************************** SQL Casestudy Q11 **********************"
   ]
  },
  {
   "cell_type": "code",
   "execution_count": 5,
   "id": "8bb90432",
   "metadata": {},
   "outputs": [
    {
     "name": "stdout",
     "output_type": "stream",
     "text": [
      "after connection...\n",
      "                 0      1\n",
      "0   Tennis Court 1  478.5\n",
      "1   Tennis Court 2  441.0\n",
      "2  Badminton Court  543.0\n",
      "3     Table Tennis  397.0\n",
      "4   Massage Room 1  442.0\n",
      "5   Massage Room 2   27.0\n",
      "6     Squash Court  209.0\n",
      "7    Snooker Table  430.0\n",
      "8       Pool Table  428.0\n"
     ]
    }
   ],
   "source": [
    "#****************************** SQL Casestudy Q12 **********************\n",
    "'''\n",
    "Q12: Find the facilities with their usage by member, but not guests\n",
    "\n",
    "'''\n",
    "\n",
    "rs_12 = con.execute(\"select f.name,b.member_hours_used from \\\n",
    "( \\\n",
    "select facid, \\\n",
    "sum(case when memid<>0 then slots else 0 end)*0.5 member_hours_used \\\n",
    "from Bookings \\\n",
    "group by facid \\\n",
    "order by facid \\\n",
    "    ) b  \\\n",
    "join Facilities f \\\n",
    "  on b.facid = f.facid \") \n",
    "print('after connection...')\n",
    "\n",
    "df12 = pd.DataFrame(rs_12.fetchall())\n",
    "print(df12)\n",
    "\n",
    "#****************************** SQL Casestudy Q12 **********************"
   ]
  },
  {
   "cell_type": "code",
   "execution_count": 11,
   "id": "bd940067",
   "metadata": {},
   "outputs": [
    {
     "name": "stdout",
     "output_type": "stream",
     "text": [
      "after connection...\n",
      "              0  1  2\n",
      "0  Table Tennis  7  0\n"
     ]
    }
   ],
   "source": [
    "#****************************** SQL Casestudy Q13 **********************\n",
    "'''\n",
    "Q13: Find the facilities usage by month, but not guests\n",
    "\n",
    "'''\n",
    "#import sqllite3\n",
    "rs_13 = con.execute(\"select f.name,mth,num_of_lots * membercost usage_by_month from (  \\\n",
    "(select facid,cast(substr(starttime,6,2) as integer) mth,sum(case when memid <> 0 then slots else 0 end) num_of_lots from Bookings ) b \\\n",
    "JOIN  \\\n",
    "Facilities f  \\\n",
    " on b.facid = f.facid \\\n",
    ")  \") \n",
    "print('after connection...')\n",
    "\n",
    "df13 = pd.DataFrame(rs_13.fetchall())\n",
    "print(df13)\n",
    "\n",
    "#****************************** SQL Casestudy Q13 **********************"
   ]
  },
  {
   "cell_type": "code",
   "execution_count": null,
   "id": "db1cb19c",
   "metadata": {},
   "outputs": [],
   "source": []
  }
 ],
 "metadata": {
  "kernelspec": {
   "display_name": "Python 3",
   "language": "python",
   "name": "python3"
  },
  "language_info": {
   "codemirror_mode": {
    "name": "ipython",
    "version": 3
   },
   "file_extension": ".py",
   "mimetype": "text/x-python",
   "name": "python",
   "nbconvert_exporter": "python",
   "pygments_lexer": "ipython3",
   "version": "3.8.8"
  }
 },
 "nbformat": 4,
 "nbformat_minor": 5
}
